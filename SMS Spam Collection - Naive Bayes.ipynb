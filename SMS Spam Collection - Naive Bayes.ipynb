{
 "cells": [
  {
   "cell_type": "markdown",
   "metadata": {
    "_cell_guid": "4a92a4a9-e124-4daf-9ab3-2a9f6c4899e9",
    "_uuid": "a22d42929a30a29eb46caf1aac1ba9d24bb2aec7"
   },
   "source": [
    "# 垃圾邮件分类\n",
    "\n",
    "https://www.kaggle.com/uciml/sms-spam-collection-dataset"
   ]
  },
  {
   "cell_type": "markdown",
   "metadata": {
    "_cell_guid": "d6b1ab40-34da-4645-98c4-4b61c97895f6",
    "_uuid": "0259bd59e4fad41ffd78aa5a510a83ef07daab7f"
   },
   "source": [
    "读取数据"
   ]
  },
  {
   "cell_type": "code",
   "execution_count": 1,
   "metadata": {
    "_cell_guid": "a89760f4-9075-42be-b4c4-c8c87d175c88",
    "_uuid": "4429a082ddabcb23261daec29ee1ae9e68ba2a2e"
   },
   "outputs": [
    {
     "name": "stdout",
     "output_type": "stream",
     "text": [
      "     v1                                                 v2 Unnamed: 2  \\\n",
      "0   ham  Go until jurong point, crazy.. Available only ...        NaN   \n",
      "1   ham                      Ok lar... Joking wif u oni...        NaN   \n",
      "2  spam  Free entry in 2 a wkly comp to win FA Cup fina...        NaN   \n",
      "3   ham  U dun say so early hor... U c already then say...        NaN   \n",
      "4   ham  Nah I don't think he goes to usf, he lives aro...        NaN   \n",
      "\n",
      "  Unnamed: 3 Unnamed: 4  \n",
      "0        NaN        NaN  \n",
      "1        NaN        NaN  \n",
      "2        NaN        NaN  \n",
      "3        NaN        NaN  \n",
      "4        NaN        NaN  \n"
     ]
    },
    {
     "data": {
      "text/plain": [
       "(5572, 5)"
      ]
     },
     "execution_count": 1,
     "metadata": {},
     "output_type": "execute_result"
    }
   ],
   "source": [
    "import pandas as pd\n",
    "import numpy as np \n",
    "import pandas as pd \n",
    "import matplotlib.pyplot as plt # 画图常用库\n",
    "\n",
    "data_dir = \"./\"\n",
    "\n",
    "df = pd.read_csv(data_dir + '/spam.csv', encoding='latin-1')  \n",
    "# 编码相关阅读http://blog.csdn.net/robertcpp/article/details/7837712 \n",
    "\n",
    "# 查看数据\n",
    "print (df.head())\n",
    "df.shape"
   ]
  },
  {
   "cell_type": "markdown",
   "metadata": {
    "_cell_guid": "67acf5ec-1b9d-46f2-937a-48d43d615cc5",
    "_uuid": "dba56aaa22e5b5644fd62770e9ee1e9722a283af"
   },
   "source": [
    "把数据拆分为train 和 test"
   ]
  },
  {
   "cell_type": "code",
   "execution_count": 2,
   "metadata": {
    "_cell_guid": "aef04972-5890-4b3a-b0d9-f70d7981287b",
    "_uuid": "0fd1c53204501212d3dae7b60fd8c4af6cdbd067"
   },
   "outputs": [
    {
     "name": "stdout",
     "output_type": "stream",
     "text": [
      "拆分过后的每个邮件内容\n",
      "1114    No no:)this is kallis home ground.amla home to...\n",
      "3589    I am in escape theatre now. . Going to watch K...\n",
      "3095    We walked from my moms. Right on stagwood pass...\n",
      "1012       I dunno they close oredi not... ÌÏ v ma fan...\n",
      "3320                               Yo im right by yo work\n",
      "Name: v2, dtype: object\n",
      "1114    ham\n",
      "3589    ham\n",
      "3095    ham\n",
      "1012    ham\n",
      "3320    ham\n",
      "Name: v1, dtype: object\n"
     ]
    }
   ],
   "source": [
    "from sklearn.model_selection import train_test_split\n",
    "\n",
    "# split into train and test\n",
    "data_train, data_test, labels_train, labels_test = train_test_split(\n",
    "    df.v2,\n",
    "    df.v1, \n",
    "    test_size=0.2, \n",
    "    random_state=0) \n",
    "\n",
    "print ('拆分过后的每个邮件内容')\n",
    "\n",
    "print (data_train.head())\n",
    "print (labels_train.head())"
   ]
  },
  {
   "cell_type": "markdown",
   "metadata": {
    "_cell_guid": "272d1ea1-3e8b-4a73-97e2-99905e7d4e4b",
    "_uuid": "77f7dfa64504b410f548b5570bbf1d9abec9fd91"
   },
   "source": [
    "统计训练集里面单词个数"
   ]
  },
  {
   "cell_type": "code",
   "execution_count": 3,
   "metadata": {
    "_cell_guid": "273f8e30-397b-4c63-ac08-88be32d61979",
    "_uuid": "0be1cef52ee1cffc71007be2181a842915cd47bb"
   },
   "outputs": [],
   "source": [
    "from sklearn.feature_extraction.text import CountVectorizer\n",
    "\n",
    "vectorizer = CountVectorizer()\n",
    "\n",
    "data_train_count = vectorizer.fit_transform(data_train)\n",
    "data_test_count  = vectorizer.transform(data_test)\n",
    "# print ('统计每个单词出现的频率')\n",
    "# print (data_train_count.shape)\n",
    "# print (vectorizer.vocabulary_)\n",
    "# print (data_test_count.shape)\n",
    "\n"
   ]
  },
  {
   "cell_type": "markdown",
   "metadata": {
    "_cell_guid": "8176b13f-ed49-43fa-844e-2445c533d237",
    "_uuid": "7972abd7b32472bb42573b71ce20c9cdfdb37666"
   },
   "source": [
    "演示CountVectorizer用法"
   ]
  },
  {
   "cell_type": "code",
   "execution_count": 4,
   "metadata": {
    "_cell_guid": "76be376a-0c66-4001-ac99-9b968ce62781",
    "_uuid": "bc7497787d1d19eee918fec0faabe29669a8b3fb"
   },
   "outputs": [
    {
     "name": "stdout",
     "output_type": "stream",
     "text": [
      "  (0, 3)\t1\n",
      "  (0, 5)\t1\n",
      "  (0, 2)\t1\n",
      "  (0, 1)\t2\n",
      "  (1, 5)\t1\n",
      "  (1, 2)\t1\n",
      "  (1, 0)\t1\n",
      "  (1, 4)\t1\n",
      "{'love': 3, 'you': 5, 'good': 2, 'bad': 1, 'are': 0, 'soo': 4}\n"
     ]
    }
   ],
   "source": [
    "import pandas as pd \n",
    "import matplotlib.pyplot as plt # 画图常用库\n",
    "vect = CountVectorizer()\n",
    "example = ['I love you, good bad bad', 'you are soo good']\n",
    "\n",
    "result = vect.fit_transform(example)\n",
    "print(result)\n",
    "print (vect.vocabulary_)\n",
    "\n"
   ]
  },
  {
   "cell_type": "code",
   "execution_count": 5,
   "metadata": {
    "_cell_guid": "2748a8b3-911d-44f2-bf4e-946f6bebdaba",
    "_uuid": "a425a72a8460687ba0c067893f82b11d04d6f025"
   },
   "outputs": [
    {
     "data": {
      "image/png": "[encoded data removed]",
      "text/plain": [
       "<Figure size 432x288 with 1 Axes>"
      ]
     },
     "metadata": {
      "needs_background": "light"
     },
     "output_type": "display_data"
    },
    {
     "data": {
      "text/html": [
       "<div>\n",
       "<style scoped>\n",
       "    .dataframe tbody tr th:only-of-type {\n",
       "        vertical-align: middle;\n",
       "    }\n",
       "\n",
       "    .dataframe tbody tr th {\n",
       "        vertical-align: top;\n",
       "    }\n",
       "\n",
       "    .dataframe thead th {\n",
       "        text-align: right;\n",
       "    }\n",
       "</style>\n",
       "<table border=\"1\" class=\"dataframe\">\n",
       "  <thead>\n",
       "    <tr style=\"text-align: right;\">\n",
       "      <th></th>\n",
       "      <th>term</th>\n",
       "      <th>occurrences</th>\n",
       "      <th>frequency</th>\n",
       "    </tr>\n",
       "  </thead>\n",
       "  <tbody>\n",
       "    <tr>\n",
       "      <td>6799</td>\n",
       "      <td>to</td>\n",
       "      <td>1785</td>\n",
       "      <td>0.027950</td>\n",
       "    </tr>\n",
       "    <tr>\n",
       "      <td>7562</td>\n",
       "      <td>you</td>\n",
       "      <td>1767</td>\n",
       "      <td>0.027668</td>\n",
       "    </tr>\n",
       "    <tr>\n",
       "      <td>6681</td>\n",
       "      <td>the</td>\n",
       "      <td>1052</td>\n",
       "      <td>0.016472</td>\n",
       "    </tr>\n",
       "    <tr>\n",
       "      <td>923</td>\n",
       "      <td>and</td>\n",
       "      <td>784</td>\n",
       "      <td>0.012276</td>\n",
       "    </tr>\n",
       "    <tr>\n",
       "      <td>3575</td>\n",
       "      <td>in</td>\n",
       "      <td>755</td>\n",
       "      <td>0.011822</td>\n",
       "    </tr>\n",
       "  </tbody>\n",
       "</table>\n",
       "</div>"
      ],
      "text/plain": [
       "     term  occurrences  frequency\n",
       "6799   to         1785   0.027950\n",
       "7562  you         1767   0.027668\n",
       "6681  the         1052   0.016472\n",
       "923   and          784   0.012276\n",
       "3575   in          755   0.011822"
      ]
     },
     "execution_count": 5,
     "metadata": {},
     "output_type": "execute_result"
    }
   ],
   "source": [
    "\n",
    "word_freq_df = pd.DataFrame({'term': vectorizer.get_feature_names(), 'occurrences':data_train_count.toarray().sum(axis=0)})\n",
    "word_freq_df['frequency'] = word_freq_df['occurrences']/np.sum(word_freq_df['occurrences'])\n",
    "plt.plot(word_freq_df.occurrences)\n",
    "plt.show() # 显示图形\n",
    "\n",
    "\n",
    "word_freq_df_sort = word_freq_df.sort_values(by=['occurrences'], ascending=False)\n",
    "word_freq_df_sort.head()\n",
    "\n"
   ]
  },
  {
   "cell_type": "code",
   "execution_count": 6,
   "metadata": {
    "_cell_guid": "406d0b4b-bb4b-4db8-a94f-67b002e3797c",
    "_uuid": "f8e259bb2ef260294478c4ec7929cdd10b68d84a"
   },
   "outputs": [
    {
     "name": "stdout",
     "output_type": "stream",
     "text": [
      "(4457, 7612) (4457,) (1115, 7612)\n"
     ]
    }
   ],
   "source": [
    "# 查看发现train 和 test 的feature不一致\n",
    "\n",
    "print (data_train_count.shape, labels_train.shape, data_test_count.shape)"
   ]
  },
  {
   "cell_type": "markdown",
   "metadata": {
    "_cell_guid": "3cfdaa3e-c3b7-45f0-8846-13f7e85c6da7",
    "_uuid": "2c5911ddfa38f04cecdc3abff12ede045d167347"
   },
   "source": [
    "选择比较重要的feature"
   ]
  },
  {
   "cell_type": "markdown",
   "metadata": {
    "_cell_guid": "b4a698f1-fdde-4858-8043-3902d870bc90",
    "_uuid": "d1ccbf1a3bfbdd521c52db477e9d40e9d4268212"
   },
   "source": [
    "训练模型"
   ]
  },
  {
   "cell_type": "code",
   "execution_count": 7,
   "metadata": {
    "_cell_guid": "708ea854-0c20-4ac0-97b7-90075d8f63c4",
    "_uuid": "ad1c1cf6085fdf9d83c34c68b324f1c73e710315"
   },
   "outputs": [
    {
     "name": "stdout",
     "output_type": "stream",
     "text": [
      "['ham' 'ham' 'ham' ... 'ham' 'ham' 'ham']\n"
     ]
    }
   ],
   "source": [
    "\n",
    "from sklearn.naive_bayes import MultinomialNB\n",
    "from sklearn.metrics import accuracy_score\n",
    "\n",
    "clf = MultinomialNB()\n",
    "clf.fit(data_train_count, labels_train)\n",
    "predictions = clf.predict(data_test_count)\n",
    "print(predictions)\n"
   ]
  },
  {
   "cell_type": "code",
   "execution_count": 8,
   "metadata": {
    "_cell_guid": "7fa3e576-9b9b-48ec-b408-c3861ca079a2",
    "_uuid": "265782347ee4ecfae5a53be5d399134d40f81829"
   },
   "outputs": [
    {
     "name": "stdout",
     "output_type": "stream",
     "text": [
      "0.9874439461883409\n",
      "              precision    recall  f1-score   support\n",
      "\n",
      "         ham       0.99      1.00      0.99       949\n",
      "        spam       0.99      0.93      0.96       166\n",
      "\n",
      "    accuracy                           0.99      1115\n",
      "   macro avg       0.99      0.96      0.97      1115\n",
      "weighted avg       0.99      0.99      0.99      1115\n",
      "\n",
      "[[947   2]\n",
      " [ 12 154]]\n",
      "[0.99553571 0.97309417 0.96860987 0.97757848 0.97757848 0.98654709\n",
      " 0.99103139 0.99103139 0.98206278 0.98654709 0.98206278 0.98654709\n",
      " 0.98206278 0.98206278 0.97309417 0.99103139 0.96846847 0.97747748\n",
      " 0.99099099 0.98648649]\n",
      "0.9824950420872508\n"
     ]
    }
   ],
   "source": [
    "# 检测模型\n",
    "\n",
    "from sklearn.metrics import accuracy_score,classification_report,confusion_matrix\n",
    "from sklearn.model_selection import cross_val_score\n",
    "\n",
    "\n",
    "print (accuracy_score(labels_test, predictions))\n",
    "print (classification_report(labels_test, predictions))\n",
    "print (confusion_matrix(labels_test, predictions))\n",
    "\n",
    "\n",
    "cross_val = cross_val_score(clf, data_train_count, labels_train, cv=20, scoring='accuracy')\n",
    "print (cross_val)\n",
    "print (np.mean(cross_val))"
   ]
  }
 ],
 "metadata": {
  "kernelspec": {
   "display_name": "Python 3",
   "language": "python",
   "name": "python3"
  },
  "language_info": {
   "codemirror_mode": {
    "name": "ipython",
    "version": 3
   },
   "file_extension": ".py",
   "mimetype": "text/x-python",
   "name": "python",
   "nbconvert_exporter": "python",
   "pygments_lexer": "ipython3",
   "version": "3.7.4"
  }
 },
 "nbformat": 4,
 "nbformat_minor": 4
}
